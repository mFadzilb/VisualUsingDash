{
 "cells": [
  {
   "cell_type": "code",
   "execution_count": 1,
   "id": "cac49fef-1843-4a5c-9e6a-6c1c527a8405",
   "metadata": {},
   "outputs": [
    {
     "data": {
      "text/html": [
       "\n",
       "        <iframe\n",
       "            width=\"100%\"\n",
       "            height=\"650\"\n",
       "            src=\"http://127.0.0.1:8050/\"\n",
       "            frameborder=\"0\"\n",
       "            allowfullscreen\n",
       "            \n",
       "        ></iframe>\n",
       "        "
      ],
      "text/plain": [
       "<IPython.lib.display.IFrame at 0x27456eead50>"
      ]
     },
     "metadata": {},
     "output_type": "display_data"
    },
    {
     "data": {
      "text/html": [
       "\n",
       "        <iframe\n",
       "            width=\"100%\"\n",
       "            height=\"650\"\n",
       "            src=\"http://127.0.0.1:8050/\"\n",
       "            frameborder=\"0\"\n",
       "            allowfullscreen\n",
       "            \n",
       "        ></iframe>\n",
       "        "
      ],
      "text/plain": [
       "<IPython.lib.display.IFrame at 0x27456e07a10>"
      ]
     },
     "metadata": {},
     "output_type": "display_data"
    }
   ],
   "source": [
    "#!pip install plotly dash jupyter-dash\n",
    "\n",
    "# Importing required libraries\n",
    "import plotly.express as px\n",
    "from dash import Dash, dcc, html\n",
    "from jupyter_dash import JupyterDash\n",
    "from dash.dependencies import Input, Output\n",
    "import pandas as pd\n",
    "\n",
    "import warnings\n",
    "warnings.filterwarnings('ignore')\n",
    "\n",
    "\n",
    "# Load a sample dataset\n",
    "df = px.data.gapminder()\n",
    "\n",
    "# Initialize the Jupyter Dash app\n",
    "app = JupyterDash(__name__)\n",
    "\n",
    "# App Layout\n",
    "app.layout = html.Div([\n",
    "    html.H1(\"Interactive World Development Dashboard\", style={'textAlign': 'center'}),\n",
    "    \n",
    "    html.Label('Select Year:'),\n",
    "    dcc.Slider(\n",
    "        id='year-slider',\n",
    "        min=df['year'].min(),\n",
    "        max=df['year'].max(),\n",
    "        value=df['year'].min(),\n",
    "        marks={str(year): str(year) for year in df['year'].unique()},\n",
    "        step=None\n",
    "    ),\n",
    "    \n",
    "    dcc.Graph(id='life-exp-vs-gdp'),\n",
    "])\n",
    "\n",
    "# Callback to update the graph based on the slider input\n",
    "@app.callback(\n",
    "    Output('life-exp-vs-gdp', 'figure'),\n",
    "    [Input('year-slider', 'value')]\n",
    ")\n",
    "def update_figure(selected_year):\n",
    "    filtered_df = df[df.year == selected_year]\n",
    "    \n",
    "    # Plotly scatter plot for Life Expectancy vs GDP Per Capita\n",
    "    fig = px.scatter(filtered_df, x=\"gdpPercap\", y=\"lifeExp\",\n",
    "                     size=\"pop\", color=\"continent\", hover_name=\"country\",\n",
    "                     log_x=True, size_max=55,\n",
    "                     title=f\"Life Expectancy vs GDP per Capita in {selected_year}\")\n",
    "    \n",
    "    fig.update_layout(transition_duration=500)\n",
    "    \n",
    "    return fig\n",
    "\n",
    "# Run the app in the Jupyter notebook\n",
    "app.run_server(mode='inline')\n"
   ]
  },
  {
   "cell_type": "code",
   "execution_count": null,
   "id": "922c3ddc-7291-41da-9077-5518c5a2e622",
   "metadata": {},
   "outputs": [],
   "source": []
  },
  {
   "cell_type": "code",
   "execution_count": null,
   "id": "96d725a3-65ca-481f-9bd1-41b428dfcd14",
   "metadata": {},
   "outputs": [],
   "source": []
  }
 ],
 "metadata": {
  "kernelspec": {
   "display_name": "Python 3 (ipykernel)",
   "language": "python",
   "name": "python3"
  },
  "language_info": {
   "codemirror_mode": {
    "name": "ipython",
    "version": 3
   },
   "file_extension": ".py",
   "mimetype": "text/x-python",
   "name": "python",
   "nbconvert_exporter": "python",
   "pygments_lexer": "ipython3",
   "version": "3.11.7"
  }
 },
 "nbformat": 4,
 "nbformat_minor": 5
}
